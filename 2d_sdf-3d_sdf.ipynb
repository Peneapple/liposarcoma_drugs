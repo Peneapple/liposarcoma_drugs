{
 "cells": [
  {
   "cell_type": "code",
   "execution_count": 6,
   "id": "b4f482fb-c511-4a82-a6fa-295203322867",
   "metadata": {},
   "outputs": [
    {
     "name": "stdout",
     "output_type": "stream",
     "text": [
      "⚠️ warring：optimization is not convergent\n",
      "✅ generate 3D SDF file successfully：DB05109_3d.sdf\n"
     ]
    }
   ],
   "source": [
    "# Requires RDKit: conda install -c conda-forge rdkit\n",
    "\n",
    "from rdkit import Chem\n",
    "from rdkit.Chem import AllChem\n",
    "\n",
    "# 1. Read 2D SDF \n",
    "supplier = Chem.SDMolSupplier(\"DB05109.sdf\", removeHs=False)\n",
    "mols = [m for m in supplier if m is not None]\n",
    "\n",
    "# 2. Create SDWriter to output 3D file\n",
    "writer = Chem.SDWriter(\"DB05109_3d.sdf\")\n",
    "\n",
    "for mol in mols:\n",
    "    # add hydrogen (optional, could be deleted)\n",
    "    mol = Chem.AddHs(mol)\n",
    "\n",
    "    # generate 3D cordinates（ETKDG method）\n",
    "    params = AllChem.ETKDGv3()\n",
    "    params.randomSeed = 42\n",
    "    embed_result = AllChem.EmbedMolecule(mol, params)\n",
    "    if embed_result != 0:\n",
    "        print(\"⚠️ Embed failed, skip the molecule\")\n",
    "        continue\n",
    "\n",
    "    # Optimize geometric structure (UFF force field)\n",
    "    opt_result = AllChem.UFFOptimizeMolecule(mol)\n",
    "    if opt_result != 0:\n",
    "        print(\"⚠️ warring：optimization is not convergent\")\n",
    "\n",
    "    # write result\n",
    "    writer.write(mol)\n",
    "\n",
    "writer.close()\n",
    "print(\"✅ generate 3D SDF file successfully：DB05109_3d.sdf\")\n"
   ]
  },
  {
   "cell_type": "code",
   "execution_count": null,
   "id": "be239d52-2a3d-4b7f-9701-ea867b1b8ac9",
   "metadata": {},
   "outputs": [],
   "source": []
  }
 ],
 "metadata": {
  "kernelspec": {
   "display_name": "Python 3 (ipykernel)",
   "language": "python",
   "name": "python3"
  },
  "language_info": {
   "codemirror_mode": {
    "name": "ipython",
    "version": 3
   },
   "file_extension": ".py",
   "mimetype": "text/x-python",
   "name": "python",
   "nbconvert_exporter": "python",
   "pygments_lexer": "ipython3",
   "version": "3.12.10"
  }
 },
 "nbformat": 4,
 "nbformat_minor": 5
}
